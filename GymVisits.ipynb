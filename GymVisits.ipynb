{
 "cells": [
  {
   "cell_type": "code",
   "execution_count": 1,
   "metadata": {
    "collapsed": false
   },
   "outputs": [],
   "source": [
    "import json\n",
    "import requests\n",
    "from bs4 import BeautifulSoup"
   ]
  },
  {
   "cell_type": "markdown",
   "metadata": {},
   "source": [
    "# Load Login Credentials"
   ]
  },
  {
   "cell_type": "code",
   "execution_count": 2,
   "metadata": {
    "collapsed": false
   },
   "outputs": [],
   "source": [
    "with open('credentials.json', 'r') as f:\n",
    "    credentials = json.load(f)\n",
    "    username = credentials['USERNAME']\n",
    "    password = credentials['PASSWORD']\n",
    "    \n",
    "URL = 'https://www.mytwinoaks.com/MemberPortal/Login.aspx?clubid=1699'\n",
    "headers={\"User-Agent\":\"Mozilla/5.0 (X11; Linux x86_64) AppleWebKit/537.36 (KHTML, like Gecko) Chrome/43.0.2357.125 Safari/537.36\"}"
   ]
  },
  {
   "cell_type": "markdown",
   "metadata": {},
   "source": [
    "# Start Session and Login"
   ]
  },
  {
   "cell_type": "code",
   "execution_count": 3,
   "metadata": {
    "collapsed": false,
    "scrolled": true
   },
   "outputs": [
    {
     "name": "stdout",
     "output_type": "stream",
     "text": [
      "Getting: https://www.mytwinoaks.com/MemberPortal/Login.aspx?clubid=1699\n",
      "Returned: https://www.mytwinoaks.com/MemberPortal/ClubServices/memDashboard.aspx?clubid=1699\n"
     ]
    }
   ],
   "source": [
    "print(\"Getting:\", URL)\n",
    "s=requests.Session()\n",
    "s.headers.update(headers)\n",
    "\n",
    "r=s.get(URL)\n",
    "soup=BeautifulSoup(r.content)\n",
    "\n",
    "VIEWSTATE=soup.find(id=\"__VIEWSTATE\")['value']\n",
    "VIEWSTATEGENERATOR=soup.find(id=\"__VIEWSTATEGENERATOR\")['value']\n",
    "EVENTVALIDATION=soup.find(id=\"__EVENTVALIDATION\")['value']\n",
    "\n",
    "data={\"__VIEWSTATE\":VIEWSTATE,\n",
    "\"__VIEWSTATEGENERATOR\":VIEWSTATEGENERATOR,\n",
    "\"__EVENTVALIDATION\":EVENTVALIDATION,\n",
    "\"ctl00$PageContent$LoginName\":username,\n",
    "\"ctl00$PageContent$PassWord\":password,\n",
    "\"ctl00$PageContent$loginButton\":\"Log In\"}\n",
    "\n",
    "r = s.post(URL, data)\n",
    "URL = r.url\n",
    "soup = BeautifulSoup(r.content)\n",
    "print(\"Returned:\",URL)"
   ]
  },
  {
   "cell_type": "markdown",
   "metadata": {},
   "source": [
    "# Get a history of visits"
   ]
  },
  {
   "cell_type": "markdown",
   "metadata": {},
   "source": [
    "## Navigate to Usage Page"
   ]
  },
  {
   "cell_type": "code",
   "execution_count": 4,
   "metadata": {
    "collapsed": false
   },
   "outputs": [
    {
     "name": "stdout",
     "output_type": "stream",
     "text": [
      "Getting: https://www.mytwinoaks.com/MemberPortal/ClubServices/memDashboard.aspx?clubid=1699\n",
      "Returned: https://www.mytwinoaks.com/MemberPortal/ClubServices/memDashboard.aspx?clubid=1699\n"
     ]
    }
   ],
   "source": [
    "VIEWSTATE=soup.find(id=\"__VIEWSTATE\")['value']\n",
    "VIEWSTATEGENERATOR=soup.find(id=\"__VIEWSTATEGENERATOR\")['value']\n",
    "EVENTVALIDATION=soup.find(id=\"__EVENTVALIDATION\")['value']\n",
    "\n",
    "data = {\"__VIEWSTATE\":VIEWSTATE,\n",
    "        \"__VIEWSTATEGENERATOR\":VIEWSTATEGENERATOR,\n",
    "        \"__VIEWSTATEENCRYPTED\":\"\",\n",
    "        \"__EVENTVALIDATION\":EVENTVALIDATION,\n",
    "        \"ctl00$IsLoggedIn\":1,\n",
    "        \"ctl00$PageContent$amtToPayPopupBox\":0,\n",
    "        \"__EVENTTARGET\":\"ctl00$PageSubNavBar$UsageButton\",\n",
    "        \"__EVENTARGUMENT\":\"\"\n",
    "       }\n",
    "\n",
    "print(\"Getting:\", URL)\n",
    "r = s.post(URL, data)\n",
    "URL = r.url\n",
    "soup = BeautifulSoup(r.content)\n",
    "print(\"Returned:\",URL)"
   ]
  },
  {
   "cell_type": "markdown",
   "metadata": {},
   "source": [
    "## Open Printable View of Usage"
   ]
  },
  {
   "cell_type": "code",
   "execution_count": 5,
   "metadata": {
    "collapsed": false
   },
   "outputs": [
    {
     "name": "stdout",
     "output_type": "stream",
     "text": [
      "Getting: https://www.mytwinoaks.com/MemberPortal/ClubServices/memDashboard.aspx?clubid=1699\n",
      "Returned: https://www.mytwinoaks.com/MemberPortal/ClubServices/memDashboard.aspx?clubid=1699\n"
     ]
    }
   ],
   "source": [
    "#First, trigger the ability to GET\n",
    "\n",
    "VIEWSTATE=soup.find(id=\"__VIEWSTATE\")['value']\n",
    "VIEWSTATEGENERATOR=soup.find(id=\"__VIEWSTATEGENERATOR\")['value']\n",
    "EVENTVALIDATION=soup.find(id=\"__EVENTVALIDATION\")['value']\n",
    "\n",
    "data = {\"__VIEWSTATE\":VIEWSTATE,\n",
    "        \"__VIEWSTATEGENERATOR\":VIEWSTATEGENERATOR,\n",
    "        \"__VIEWSTATEENCRYPTED\":\"\",\n",
    "        \"__EVENTVALIDATION\":EVENTVALIDATION,\n",
    "        \"ctl00$IsLoggedIn\":1,\n",
    "        \"ctl00$PageContent$fromDateBox\":\"\",\n",
    "        \"ctl00$PageContent$toDateBox:\":\"\",\n",
    "        \"ctl00$PageContent$amtToPayPopupBox\":0,\n",
    "        \"__EVENTTARGET\":\"ctl00$PageContent$usePrintableLink\",\n",
    "        \"__EVENTARGUMENT\":\"\"\n",
    "       }\n",
    "\n",
    "print(\"Getting:\", URL)\n",
    "r = s.post(URL, data)\n",
    "URL = r.url\n",
    "soup = BeautifulSoup(r.content)\n",
    "print(\"Returned:\",URL)"
   ]
  },
  {
   "cell_type": "markdown",
   "metadata": {},
   "source": [
    "## Record Data"
   ]
  },
  {
   "cell_type": "code",
   "execution_count": 6,
   "metadata": {
    "collapsed": true
   },
   "outputs": [],
   "source": [
    "checkins = s.get(\"https://www.mytwinoaks.com/MemberPortal/ClubServices/MemberUsageReport.aspx\")\n",
    "\n",
    "with open('Checkins.html', 'w') as w:\n",
    "    w.write(checkins.text)"
   ]
  },
  {
   "cell_type": "markdown",
   "metadata": {},
   "source": [
    "# Get a history of payments"
   ]
  },
  {
   "cell_type": "markdown",
   "metadata": {},
   "source": [
    "## Naviate to the payment page"
   ]
  },
  {
   "cell_type": "code",
   "execution_count": 7,
   "metadata": {
    "collapsed": false
   },
   "outputs": [
    {
     "name": "stdout",
     "output_type": "stream",
     "text": [
      "Getting: https://www.mytwinoaks.com/MemberPortal/ClubServices/memDashboard.aspx?clubid=1699\n",
      "Returned: https://www.mytwinoaks.com/MemberPortal/ClubServices/memDashboard.aspx?clubid=1699\n"
     ]
    }
   ],
   "source": [
    "VIEWSTATE=soup.find(id=\"__VIEWSTATE\")['value']\n",
    "VIEWSTATEGENERATOR=soup.find(id=\"__VIEWSTATEGENERATOR\")['value']\n",
    "EVENTVALIDATION=soup.find(id=\"__EVENTVALIDATION\")['value']\n",
    "\n",
    "data = {\"__VIEWSTATE\":VIEWSTATE,\n",
    "        \"__VIEWSTATEGENERATOR\":VIEWSTATEGENERATOR,\n",
    "        \"__VIEWSTATEENCRYPTED\":\"\",\n",
    "        \"__EVENTVALIDATION\":EVENTVALIDATION,\n",
    "        \"ctl00$IsLoggedIn\":1,\n",
    "        \"ctl00$PageContent$amtToPayPopupBox\":0,\n",
    "        \"__EVENTTARGET\":\"ctl00$PageSubNavBar$ARHistoryButton\",\n",
    "        \"__EVENTARGUMENT\":\"\"\n",
    "       }\n",
    "\n",
    "print(\"Getting:\", URL)\n",
    "r = s.post(URL, data)\n",
    "URL = r.url\n",
    "soup = BeautifulSoup(r.content)\n",
    "print(\"Returned:\",URL)"
   ]
  },
  {
   "cell_type": "markdown",
   "metadata": {},
   "source": [
    "## Open printable view of Payments"
   ]
  },
  {
   "cell_type": "code",
   "execution_count": 8,
   "metadata": {
    "collapsed": false
   },
   "outputs": [
    {
     "name": "stdout",
     "output_type": "stream",
     "text": [
      "Getting: https://www.mytwinoaks.com/MemberPortal/ClubServices/memDashboard.aspx?clubid=1699\n",
      "Returned: https://www.mytwinoaks.com/MemberPortal/ClubServices/memDashboard.aspx?clubid=1699\n"
     ]
    }
   ],
   "source": [
    "VIEWSTATE=soup.find(id=\"__VIEWSTATE\")['value']\n",
    "VIEWSTATEGENERATOR=soup.find(id=\"__VIEWSTATEGENERATOR\")['value']\n",
    "EVENTVALIDATION=soup.find(id=\"__EVENTVALIDATION\")['value']\n",
    "\n",
    "data = {\"__VIEWSTATE\":VIEWSTATE,\n",
    "        \"__VIEWSTATEGENERATOR\":VIEWSTATEGENERATOR,\n",
    "        \"__VIEWSTATEENCRYPTED\":\"\",\n",
    "        \"__EVENTVALIDATION\":EVENTVALIDATION,\n",
    "        \"ctl00$IsLoggedIn\":1,\n",
    "        \"ctl00$PageContent$fromDateBoxAR\":\"\",\n",
    "        \"ctl00$PageContent$toDateBoxAR:\":\"\",\n",
    "        \"ctl00$PageContent$amtToPayPopupBox\":0,\n",
    "        \"__EVENTTARGET\":\"ctl00$PageContent$ARPrintableLink\",\n",
    "        \"__EVENTARGUMENT\":\"\"\n",
    "       }\n",
    "\n",
    "print(\"Getting:\", URL)\n",
    "r = s.post(URL, data)\n",
    "URL = r.url\n",
    "soup = BeautifulSoup(r.content)\n",
    "print(\"Returned:\",URL)"
   ]
  },
  {
   "cell_type": "markdown",
   "metadata": {},
   "source": [
    "## Record Data"
   ]
  },
  {
   "cell_type": "code",
   "execution_count": 9,
   "metadata": {
    "collapsed": true
   },
   "outputs": [],
   "source": [
    "payments = s.get(\"https://www.mytwinoaks.com/MemberPortal/ClubServices/ARHistoryReport.aspx\")\n",
    "\n",
    "with open('Payments.html', 'w') as w:\n",
    "    w.write(payments.text)"
   ]
  },
  {
   "cell_type": "markdown",
   "metadata": {},
   "source": [
    "# Scrape Downloaded Data"
   ]
  },
  {
   "cell_type": "code",
   "execution_count": 10,
   "metadata": {
    "collapsed": true
   },
   "outputs": [],
   "source": [
    "import datetime\n",
    "import pandas as pd\n",
    "import matplotlib.pyplot as plt\n",
    "plt.style.use('ggplot')\n",
    "%matplotlib inline"
   ]
  },
  {
   "cell_type": "code",
   "execution_count": 15,
   "metadata": {
    "collapsed": false
   },
   "outputs": [],
   "source": [
    "#Checkins\n",
    "with open('Checkins.html', 'r') as f:\n",
    "    soup = BeautifulSoup(f)\n",
    "\n",
    "df = {'club':[],'time':[]}\n",
    "for record in [rec for rec in soup.find_all('tr') if len(rec.find_all('span'))==5]:\n",
    "    club, _, time, _, alerts = [rec.text for rec in record.find_all('span')]\n",
    "    df['club'].append(club)\n",
    "    df['time'].append(datetime.datetime.strptime(time, '%m/%d/%Y %I:%M:%S %p'))\n",
    "    \n",
    "df = pd.DataFrame(df)\n",
    "df['club'] = pd.Categorical(df['club'])\n",
    "data_visits = df['time']"
   ]
  },
  {
   "cell_type": "code",
   "execution_count": 16,
   "metadata": {
    "collapsed": false
   },
   "outputs": [],
   "source": [
    "#Payments\n",
    "with open('Payments.html', 'r') as f:\n",
    "    soup = BeautifulSoup(f)\n",
    "\n",
    "df = {'date':[],'debit':[]}\n",
    "for record in [rec for rec in soup.find_all('tr') if len(rec.find_all('span'))==11]:\n",
    "    info = [rec.text for rec in record.find_all('span')]\n",
    "    date = info[0]\n",
    "    debit = info[6]\n",
    "    df['date'].append(datetime.datetime.strptime(date, '%m/%d/%Y'))\n",
    "    df['debit'].append(float(debit))\n",
    "    \n",
    "df = pd.DataFrame(df)\n",
    "data_payments = df"
   ]
  },
  {
   "cell_type": "markdown",
   "metadata": {},
   "source": [
    "# Fun with data!"
   ]
  },
  {
   "cell_type": "code",
   "execution_count": 17,
   "metadata": {
    "collapsed": false
   },
   "outputs": [
    {
     "name": "stdout",
     "output_type": "stream",
     "text": [
      "Total Payments: $1,960.00\n",
      "Total Visits: 960\n",
      "Average cost per visit: $2.04\n"
     ]
    }
   ],
   "source": [
    "total_payments = data_payments['debit'].sum()\n",
    "total_visits = len(data_visits)\n",
    "print('Total Payments:', '${0:,.2f}'.format(total_payments))\n",
    "print('Total Visits:', '{0:,}'.format(total_visits))\n",
    "print('Average cost per visit:', \"${0:,.2f}\".format(total_payments/total_visits))"
   ]
  },
  {
   "cell_type": "markdown",
   "metadata": {},
   "source": [
    "# Fun with plots!"
   ]
  },
  {
   "cell_type": "code",
   "execution_count": 18,
   "metadata": {
    "collapsed": false
   },
   "outputs": [
    {
     "data": {
      "text/plain": [
       "<matplotlib.axes._subplots.AxesSubplot at 0x7fe2b131a9b0>"
      ]
     },
     "execution_count": 18,
     "metadata": {},
     "output_type": "execute_result"
    },
    {
     "data": {
      "image/png": "[encoded data removed]",
      "text/plain": [
       "<matplotlib.figure.Figure at 0x7fe2b1a73320>"
      ]
     },
     "metadata": {},
     "output_type": "display_data"
    }
   ],
   "source": [
    "fig,ax = plt.subplots(4, figsize=(12,16))\n",
    "\n",
    "#Hour\n",
    "data_visits.groupby(data_visits.dt.hour).count().plot(kind=\"bar\", ax=ax[0])\n",
    "#Day of the Week\n",
    "data_visits.groupby(data_visits.dt.weekday).count().plot(kind=\"bar\", ax=ax[1])\n",
    "#Month\n",
    "data_visits.groupby(data_visits.dt.month).count().plot(kind=\"bar\", ax=ax[2])\n",
    "#Year\n",
    "data_visits.groupby(data_visits.dt.year).count().plot(kind=\"bar\", ax=ax[3])"
   ]
  },
  {
   "cell_type": "code",
   "execution_count": null,
   "metadata": {
    "collapsed": true
   },
   "outputs": [],
   "source": []
  }
 ],
 "metadata": {
  "kernelspec": {
   "display_name": "Python 3",
   "language": "python",
   "name": "python3"
  },
  "language_info": {
   "codemirror_mode": {
    "name": "ipython",
    "version": 3
   },
   "file_extension": ".py",
   "mimetype": "text/x-python",
   "name": "python",
   "nbconvert_exporter": "python",
   "pygments_lexer": "ipython3",
   "version": "3.4.3"
  }
 },
 "nbformat": 4,
 "nbformat_minor": 0
}
