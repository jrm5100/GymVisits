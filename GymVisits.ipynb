{
 "cells": [
  {
   "cell_type": "code",
   "execution_count": 1,
   "metadata": {
    "collapsed": false
   },
   "outputs": [],
   "source": [
    "import json\n",
    "import requests\n",
    "from bs4 import BeautifulSoup"
   ]
  },
  {
   "cell_type": "markdown",
   "metadata": {},
   "source": [
    "# Load Login Credentials"
   ]
  },
  {
   "cell_type": "code",
   "execution_count": 11,
   "metadata": {
    "collapsed": false
   },
   "outputs": [],
   "source": [
    "with open('credentials.json', 'r') as f:\n",
    "    credentials = json.load(f)\n",
    "    username = credentials['USERNAME']\n",
    "    password = credentials['PASSWORD']\n",
    "    \n",
    "URL = 'https://www.mytwinoaks.com/MemberPortal/Login.aspx?clubid=1699'\n",
    "headers={\"User-Agent\":\"Mozilla/5.0 (X11; Linux x86_64) AppleWebKit/537.36 (KHTML, like Gecko) Chrome/43.0.2357.125 Safari/537.36\"}"
   ]
  },
  {
   "cell_type": "markdown",
   "metadata": {},
   "source": [
    "# Start Session and Login"
   ]
  },
  {
   "cell_type": "code",
   "execution_count": 13,
   "metadata": {
    "collapsed": false,
    "scrolled": true
   },
   "outputs": [
    {
     "name": "stdout",
     "output_type": "stream",
     "text": [
      "Getting: https://www.mytwinoaks.com/MemberPortal/Login.aspx?clubid=1699\n",
      "Returned: https://www.mytwinoaks.com/MemberPortal/ClubServices/memDashboard.aspx?clubid=1699\n"
     ]
    }
   ],
   "source": [
    "print(\"Getting:\", URL)\n",
    "s=requests.Session()\n",
    "s.headers.update(headers)\n",
    "\n",
    "r=s.get(URL)\n",
    "soup=BeautifulSoup(r.content)\n",
    "\n",
    "VIEWSTATE=soup.find(id=\"__VIEWSTATE\")['value']\n",
    "VIEWSTATEGENERATOR=soup.find(id=\"__VIEWSTATEGENERATOR\")['value']\n",
    "EVENTVALIDATION=soup.find(id=\"__EVENTVALIDATION\")['value']\n",
    "\n",
    "data={\"__VIEWSTATE\":VIEWSTATE,\n",
    "\"__VIEWSTATEGENERATOR\":VIEWSTATEGENERATOR,\n",
    "\"__EVENTVALIDATION\":EVENTVALIDATION,\n",
    "\"ctl00$PageContent$LoginName\":username,\n",
    "\"ctl00$PageContent$PassWord\":password,\n",
    "\"ctl00$PageContent$loginButton\":\"Log In\"}\n",
    "\n",
    "r = s.post(URL, data)\n",
    "URL = r.url\n",
    "soup = BeautifulSoup(r.content)\n",
    "print(\"Returned:\",URL)"
   ]
  },
  {
   "cell_type": "markdown",
   "metadata": {},
   "source": [
    "# Get a history of visits"
   ]
  },
  {
   "cell_type": "markdown",
   "metadata": {},
   "source": [
    "## Navigate to Usage Page"
   ]
  },
  {
   "cell_type": "code",
   "execution_count": 14,
   "metadata": {
    "collapsed": false
   },
   "outputs": [
    {
     "name": "stdout",
     "output_type": "stream",
     "text": [
      "Getting: https://www.mytwinoaks.com/MemberPortal/ClubServices/memDashboard.aspx?clubid=1699\n",
      "Returned: https://www.mytwinoaks.com/MemberPortal/ClubServices/memDashboard.aspx?clubid=1699\n"
     ]
    }
   ],
   "source": [
    "VIEWSTATE=soup.find(id=\"__VIEWSTATE\")['value']\n",
    "VIEWSTATEGENERATOR=soup.find(id=\"__VIEWSTATEGENERATOR\")['value']\n",
    "EVENTVALIDATION=soup.find(id=\"__EVENTVALIDATION\")['value']\n",
    "\n",
    "data = {\"__VIEWSTATE\":VIEWSTATE,\n",
    "        \"__VIEWSTATEGENERATOR\":VIEWSTATEGENERATOR,\n",
    "        \"__VIEWSTATEENCRYPTED\":\"\",\n",
    "        \"__EVENTVALIDATION\":EVENTVALIDATION,\n",
    "        \"ctl00$IsLoggedIn\":1,\n",
    "        \"ctl00$PageContent$amtToPayPopupBox\":0,\n",
    "        \"__EVENTTARGET\":\"ctl00$PageSubNavBar$UsageButton\",\n",
    "        \"__EVENTARGUMENT\":\"\"\n",
    "       }\n",
    "\n",
    "print(\"Getting:\", URL)\n",
    "r = s.post(URL, data)\n",
    "URL = r.url\n",
    "soup = BeautifulSoup(r.content)\n",
    "print(\"Returned:\",URL)"
   ]
  },
  {
   "cell_type": "markdown",
   "metadata": {},
   "source": [
    "## Open Printable View of Usage"
   ]
  },
  {
   "cell_type": "code",
   "execution_count": 15,
   "metadata": {
    "collapsed": false
   },
   "outputs": [
    {
     "name": "stdout",
     "output_type": "stream",
     "text": [
      "Getting: https://www.mytwinoaks.com/MemberPortal/ClubServices/memDashboard.aspx?clubid=1699\n",
      "Returned: https://www.mytwinoaks.com/MemberPortal/ClubServices/memDashboard.aspx?clubid=1699\n"
     ]
    }
   ],
   "source": [
    "#First, trigger the ability to GET\n",
    "\n",
    "VIEWSTATE=soup.find(id=\"__VIEWSTATE\")['value']\n",
    "VIEWSTATEGENERATOR=soup.find(id=\"__VIEWSTATEGENERATOR\")['value']\n",
    "EVENTVALIDATION=soup.find(id=\"__EVENTVALIDATION\")['value']\n",
    "\n",
    "data = {\"__VIEWSTATE\":VIEWSTATE,\n",
    "        \"__VIEWSTATEGENERATOR\":VIEWSTATEGENERATOR,\n",
    "        \"__VIEWSTATEENCRYPTED\":\"\",\n",
    "        \"__EVENTVALIDATION\":EVENTVALIDATION,\n",
    "        \"ctl00$IsLoggedIn\":1,\n",
    "        \"ctl00$PageContent$fromDateBox\":\"\",\n",
    "        \"ctl00$PageContent$toDateBox:\":\"\",\n",
    "        \"ctl00$PageContent$amtToPayPopupBox\":0,\n",
    "        \"__EVENTTARGET\":\"ctl00$PageContent$usePrintableLink\",\n",
    "        \"__EVENTARGUMENT\":\"\"\n",
    "       }\n",
    "\n",
    "print(\"Getting:\", URL)\n",
    "r = s.post(URL, data)\n",
    "URL = r.url\n",
    "soup = BeautifulSoup(r.content)\n",
    "print(\"Returned:\",URL)"
   ]
  },
  {
   "cell_type": "markdown",
   "metadata": {},
   "source": [
    "## Record Data"
   ]
  },
  {
   "cell_type": "code",
   "execution_count": 16,
   "metadata": {
    "collapsed": true
   },
   "outputs": [],
   "source": [
    "checkins = s.get(\"https://www.mytwinoaks.com/MemberPortal/ClubServices/MemberUsageReport.aspx\")\n",
    "\n",
    "with open('Checkins.html', 'w') as w:\n",
    "    w.write(checkins.text)"
   ]
  },
  {
   "cell_type": "markdown",
   "metadata": {},
   "source": [
    "# Get a history of payments"
   ]
  },
  {
   "cell_type": "markdown",
   "metadata": {},
   "source": [
    "## Naviate to the payment page"
   ]
  },
  {
   "cell_type": "code",
   "execution_count": 17,
   "metadata": {
    "collapsed": false
   },
   "outputs": [
    {
     "name": "stdout",
     "output_type": "stream",
     "text": [
      "Getting: https://www.mytwinoaks.com/MemberPortal/ClubServices/memDashboard.aspx?clubid=1699\n",
      "Returned: https://www.mytwinoaks.com/MemberPortal/ClubServices/memDashboard.aspx?clubid=1699\n"
     ]
    }
   ],
   "source": [
    "VIEWSTATE=soup.find(id=\"__VIEWSTATE\")['value']\n",
    "VIEWSTATEGENERATOR=soup.find(id=\"__VIEWSTATEGENERATOR\")['value']\n",
    "EVENTVALIDATION=soup.find(id=\"__EVENTVALIDATION\")['value']\n",
    "\n",
    "data = {\"__VIEWSTATE\":VIEWSTATE,\n",
    "        \"__VIEWSTATEGENERATOR\":VIEWSTATEGENERATOR,\n",
    "        \"__VIEWSTATEENCRYPTED\":\"\",\n",
    "        \"__EVENTVALIDATION\":EVENTVALIDATION,\n",
    "        \"ctl00$IsLoggedIn\":1,\n",
    "        \"ctl00$PageContent$amtToPayPopupBox\":0,\n",
    "        \"__EVENTTARGET\":\"ctl00$PageSubNavBar$ARHistoryButton\",\n",
    "        \"__EVENTARGUMENT\":\"\"\n",
    "       }\n",
    "\n",
    "print(\"Getting:\", URL)\n",
    "r = s.post(URL, data)\n",
    "URL = r.url\n",
    "soup = BeautifulSoup(r.content)\n",
    "print(\"Returned:\",URL)"
   ]
  },
  {
   "cell_type": "markdown",
   "metadata": {},
   "source": [
    "## Open printable view of Payments"
   ]
  },
  {
   "cell_type": "code",
   "execution_count": 18,
   "metadata": {
    "collapsed": false
   },
   "outputs": [
    {
     "name": "stdout",
     "output_type": "stream",
     "text": [
      "Getting: https://www.mytwinoaks.com/MemberPortal/ClubServices/memDashboard.aspx?clubid=1699\n",
      "Returned: https://www.mytwinoaks.com/MemberPortal/ClubServices/memDashboard.aspx?clubid=1699\n"
     ]
    }
   ],
   "source": [
    "VIEWSTATE=soup.find(id=\"__VIEWSTATE\")['value']\n",
    "VIEWSTATEGENERATOR=soup.find(id=\"__VIEWSTATEGENERATOR\")['value']\n",
    "EVENTVALIDATION=soup.find(id=\"__EVENTVALIDATION\")['value']\n",
    "\n",
    "data = {\"__VIEWSTATE\":VIEWSTATE,\n",
    "        \"__VIEWSTATEGENERATOR\":VIEWSTATEGENERATOR,\n",
    "        \"__VIEWSTATEENCRYPTED\":\"\",\n",
    "        \"__EVENTVALIDATION\":EVENTVALIDATION,\n",
    "        \"ctl00$IsLoggedIn\":1,\n",
    "        \"ctl00$PageContent$fromDateBoxAR\":\"\",\n",
    "        \"ctl00$PageContent$toDateBoxAR:\":\"\",\n",
    "        \"ctl00$PageContent$amtToPayPopupBox\":0,\n",
    "        \"__EVENTTARGET\":\"ctl00$PageContent$ARPrintableLink\",\n",
    "        \"__EVENTARGUMENT\":\"\"\n",
    "       }\n",
    "\n",
    "print(\"Getting:\", URL)\n",
    "r = s.post(URL, data)\n",
    "URL = r.url\n",
    "soup = BeautifulSoup(r.content)\n",
    "print(\"Returned:\",URL)"
   ]
  },
  {
   "cell_type": "markdown",
   "metadata": {},
   "source": [
    "## Record Data"
   ]
  },
  {
   "cell_type": "code",
   "execution_count": 19,
   "metadata": {
    "collapsed": true
   },
   "outputs": [],
   "source": [
    "payments = s.get(\"https://www.mytwinoaks.com/MemberPortal/ClubServices/ARHistoryReport.aspx\")\n",
    "\n",
    "with open('Payments.html', 'w') as w:\n",
    "    w.write(payments.text)"
   ]
  },
  {
   "cell_type": "markdown",
   "metadata": {},
   "source": [
    "# Scrape Downloaded Data"
   ]
  },
  {
   "cell_type": "code",
   "execution_count": 2,
   "metadata": {
    "collapsed": true
   },
   "outputs": [],
   "source": [
    "import datetime\n",
    "import pandas as pd\n",
    "import numpy as np\n",
    "import calendar"
   ]
  },
  {
   "cell_type": "markdown",
   "metadata": {},
   "source": [
    "#### *Visits* is a series of datetime objects in sorted order (early to late) that corresponds to check-ins."
   ]
  },
  {
   "cell_type": "code",
   "execution_count": 3,
   "metadata": {
    "collapsed": false
   },
   "outputs": [
    {
     "data": {
      "text/plain": [
       "0   2009-10-10 14:30:45\n",
       "1   2009-10-12 18:07:58\n",
       "2   2009-10-13 18:26:28\n",
       "3   2009-10-17 11:35:13\n",
       "4   2009-10-21 17:59:35\n",
       "dtype: datetime64[ns]"
      ]
     },
     "execution_count": 3,
     "metadata": {},
     "output_type": "execute_result"
    }
   ],
   "source": [
    "#Checkins\n",
    "with open('Checkins.html', 'r') as f:\n",
    "    soup = BeautifulSoup(f)\n",
    "\n",
    "visits = []\n",
    "for record in [rec for rec in soup.find_all('tr') if len(rec.find_all('span'))==5]:\n",
    "    club, _, time, _, alerts = [rec.text for rec in record.find_all('span')]\n",
    "    visits.append(datetime.datetime.strptime(time, '%m/%d/%Y %I:%M:%S %p'))\n",
    "        \n",
    "visits = pd.Series(visits)\n",
    "visits.sort()\n",
    "visits = visits.reset_index(drop=True)\n",
    "\n",
    "visits.head()"
   ]
  },
  {
   "cell_type": "markdown",
   "metadata": {},
   "source": [
    "#### *Payments* is a dataframe of payment records"
   ]
  },
  {
   "cell_type": "code",
   "execution_count": 4,
   "metadata": {
    "collapsed": false
   },
   "outputs": [
    {
     "name": "stdout",
     "output_type": "stream",
     "text": [
      "        date  debit\n",
      "0 2009-10-10     25\n",
      "1 2009-10-10     21\n",
      "2 2009-11-01     29\n",
      "3 2009-12-01     29\n",
      "4 2010-01-01     29\n",
      "date     datetime64[ns]\n",
      "debit           float64\n",
      "dtype: object\n"
     ]
    }
   ],
   "source": [
    "#Payments\n",
    "with open('Payments.html', 'r') as f:\n",
    "    soup = BeautifulSoup(f)\n",
    "\n",
    "payments = {'date':[],'debit':[]}\n",
    "for record in [rec for rec in soup.find_all('tr') if len(rec.find_all('span'))==11]:\n",
    "    info = [rec.text for rec in record.find_all('span')]\n",
    "    date = info[0]\n",
    "    debit = info[6]\n",
    "    payments['date'].append(datetime.datetime.strptime(date, '%m/%d/%Y'))\n",
    "    payments['debit'].append(float(debit))\n",
    "    \n",
    "payments = pd.DataFrame(payments)\n",
    "payments = payments.sort('date').reset_index(drop=True) #Sort from earliest and re-index\n",
    "\n",
    "print(payments.head())\n",
    "print(payments.dtypes)"
   ]
  },
  {
   "cell_type": "markdown",
   "metadata": {},
   "source": [
    "# Fun with data!"
   ]
  },
  {
   "cell_type": "code",
   "execution_count": 5,
   "metadata": {
    "collapsed": false
   },
   "outputs": [
    {
     "name": "stdout",
     "output_type": "stream",
     "text": [
      "Total Payments: $1,960.00\n",
      "Total Visits: 960\n",
      "Average cost per visit: $2.04\n"
     ]
    }
   ],
   "source": [
    "total_payments = payments['debit'].sum()\n",
    "total_visits = len(visits)\n",
    "print('Total Payments:', '${0:,.2f}'.format(total_payments))\n",
    "print('Total Visits:', '{0:,}'.format(total_visits))\n",
    "print('Average cost per visit:', \"${0:,.2f}\".format(total_payments/total_visits))"
   ]
  },
  {
   "cell_type": "code",
   "execution_count": 37,
   "metadata": {
    "collapsed": false
   },
   "outputs": [
    {
     "name": "stdout",
     "output_type": "stream",
     "text": [
      "Most Visits:\n",
      "--------------------\n",
      "Per Year:\t228 Visits in 2011\n",
      "Per Month:\t31 Visits in February of 2011\n",
      "Per Weekday:\t167 Visits on Tuesday\n"
     ]
    }
   ],
   "source": [
    "#Most Visits per Year, Month-Year, Weekday\n",
    "print(\"Most Visits:\\n\"+\"-\"*20)\n",
    "years = visits.apply(lambda dt: dt.date().strftime(\"%Y\")).value_counts()\n",
    "print(\"Per Year:\\t{} Visits in {}\".format(years.max(), years.idxmax()))\n",
    "months = visits.apply(lambda dt: (dt.date().strftime(\"%B\"), dt.date().strftime(\"%Y\"))).value_counts()\n",
    "print(\"Per Month:\\t{} Visits in {} of {}\".format(months.max(), months.idxmax()[0], months.idxmax()[1]))\n",
    "weekdays = visits.apply(lambda dt: dt.date().strftime(\"%A\")).value_counts()\n",
    "print(\"Per Weekday:\\t{} Visits on {}\".format(weekdays.max(), weekdays.idxmax()))"
   ]
  },
  {
   "cell_type": "code",
   "execution_count": 7,
   "metadata": {
    "collapsed": false
   },
   "outputs": [
    {
     "name": "stdout",
     "output_type": "stream",
     "text": [
      "Longest break was from August 29, 2012 @ 06:57 PM to September 16, 2012 @ 10:58 AM\n",
      "This was 17 Days, 16 Hours, 0 Min, and 54 Sec\n"
     ]
    }
   ],
   "source": [
    "#Longest Break\n",
    "timediff = visits.shift(-1)-visits #time until next visit\n",
    "maxbreak = timediff.max()\n",
    "start = visits.loc[timediff.idxmax()].strftime(\"%B %d, %Y @ %I:%M %p\")\n",
    "end = visits.loc[timediff.idxmax()+1].strftime(\"%B %d, %Y @ %I:%M %p\")\n",
    "print(\"Longest break was from {} to {}\".format(start, end))\n",
    "print(\"This was {} Days, {} Hours, {} Min, and {} Sec\".format(maxbreak.days, maxbreak.seconds//3600,\n",
    "                                                              maxbreak.seconds//60%60, maxbreak.seconds%60))"
   ]
  },
  {
   "cell_type": "code",
   "execution_count": 117,
   "metadata": {
    "collapsed": false
   },
   "outputs": [
    {
     "name": "stdout",
     "output_type": "stream",
     "text": [
      "Longest Streak(s): 27 Days\n",
      "From March 14, 2011 through April 09, 2011\n"
     ]
    }
   ],
   "source": [
    "def find_longest_daily_streaks(date_array):\n",
    "    \"\"\"Return array of (start, end) dates which give longest daily streaks\"\"\"\n",
    "    #Remove duplicated, reset index\n",
    "    dates = date_array.apply(lambda dt: dt.date()).drop_duplicates().reset_index(drop=True)\n",
    "    \n",
    "    #Run first cycle (check for consecutive date)\n",
    "    delta = dates.shift(-1)-dates #days until next visit\n",
    "    consecutive = (delta == pd.Timedelta('1 days')).astype(int) #\"True\" or \"1\" if separated by maxtimedelta\n",
    "    cycles = 1\n",
    "    \n",
    "    #Run additional cycles until there are no more consecutive dates\n",
    "    while consecutive.sum() >= 1:\n",
    "        cycles += 1\n",
    "        positions = np.where(consecutive==1)\n",
    "        consecutive *= consecutive.shift(-1)\n",
    "    \n",
    "    #Return (start,end) date tuples with inclusive dates\n",
    "    starts = [dates[p[0]] for p in positions]\n",
    "    ends = [dates[p[0]+cycles-1] for p in positions]\n",
    "    return [tup for tup in zip(starts, ends)]\n",
    "\n",
    "streaks = find_longest_daily_streaks(visits)\n",
    "\n",
    "print(\"Longest Streak(s): {} Days\".format((streaks[0][1]-streaks[0][0]).days+1))\n",
    "for streak in streaks:\n",
    "    print(\"From {} through {}\".format(streak[0].strftime(\"%B %d, %Y\"),\n",
    "                                      streak[1].strftime(\"%B %d, %Y\"))) #-1 because non-inclusive"
   ]
  },
  {
   "cell_type": "markdown",
   "metadata": {},
   "source": [
    "Above method took some work to figure out.\n",
    "\n",
    "1. Get a list of unique checkin dates.\n",
    "2. Get the time difference between date and next date using shift(-1)\n",
    "3. Convert this array to give \"1\" when the next day is consecutive.\n",
    "4. Repeat this process, but multiply current array by shifted array so non-consecutive zero-out\n",
    "5. Stop when the next step would result in a 0 array.\n",
    "6. Streaks start at remaining \"1\" positions and continue for the number of cycles that occurred."
   ]
  },
  {
   "cell_type": "markdown",
   "metadata": {},
   "source": [
    "# Fun with plots!"
   ]
  },
  {
   "cell_type": "code",
   "execution_count": 9,
   "metadata": {
    "collapsed": false
   },
   "outputs": [
    {
     "ename": "ImportError",
     "evalue": "No module named 'seaborn'",
     "output_type": "error",
     "traceback": [
      "\u001b[1;31m---------------------------------------------------------------------------\u001b[0m",
      "\u001b[1;31mImportError\u001b[0m                               Traceback (most recent call last)",
      "\u001b[1;32m<ipython-input-9-7cb379ca5365>\u001b[0m in \u001b[0;36m<module>\u001b[1;34m()\u001b[0m\n\u001b[0;32m      1\u001b[0m \u001b[1;32mimport\u001b[0m \u001b[0mmatplotlib\u001b[0m\u001b[1;33m.\u001b[0m\u001b[0mpyplot\u001b[0m \u001b[1;32mas\u001b[0m \u001b[0mplt\u001b[0m\u001b[1;33m\u001b[0m\u001b[0m\n\u001b[1;32m----> 2\u001b[1;33m \u001b[1;32mimport\u001b[0m \u001b[0mseaborn\u001b[0m \u001b[1;32mas\u001b[0m \u001b[0msns\u001b[0m\u001b[1;33m\u001b[0m\u001b[0m\n\u001b[0m\u001b[0;32m      3\u001b[0m \u001b[0msns\u001b[0m\u001b[1;33m.\u001b[0m\u001b[0mset_style\u001b[0m\u001b[1;33m(\u001b[0m\u001b[1;34m\"whitegrid\"\u001b[0m\u001b[1;33m)\u001b[0m\u001b[1;33m\u001b[0m\u001b[0m\n\u001b[0;32m      4\u001b[0m \u001b[0msns\u001b[0m\u001b[1;33m.\u001b[0m\u001b[0mset_context\u001b[0m\u001b[1;33m(\u001b[0m\u001b[1;34m\"notebook\"\u001b[0m\u001b[1;33m)\u001b[0m\u001b[1;33m\u001b[0m\u001b[0m\n\u001b[0;32m      5\u001b[0m \u001b[0mget_ipython\u001b[0m\u001b[1;33m(\u001b[0m\u001b[1;33m)\u001b[0m\u001b[1;33m.\u001b[0m\u001b[0mmagic\u001b[0m\u001b[1;33m(\u001b[0m\u001b[1;34m'matplotlib inline'\u001b[0m\u001b[1;33m)\u001b[0m\u001b[1;33m\u001b[0m\u001b[0m\n",
      "\u001b[1;31mImportError\u001b[0m: No module named 'seaborn'"
     ]
    }
   ],
   "source": [
    "import matplotlib.pyplot as plt\n",
    "import seaborn as sns\n",
    "sns.set_style(\"whitegrid\")\n",
    "sns.set_context(\"notebook\")\n",
    "%matplotlib inline"
   ]
  },
  {
   "cell_type": "markdown",
   "metadata": {},
   "source": [
    "## Overview"
   ]
  },
  {
   "cell_type": "markdown",
   "metadata": {},
   "source": [
    "## Interactions"
   ]
  },
  {
   "cell_type": "code",
   "execution_count": null,
   "metadata": {
    "collapsed": true
   },
   "outputs": [],
   "source": []
  }
 ],
 "metadata": {
  "kernelspec": {
   "display_name": "Python 3",
   "language": "python",
   "name": "python3"
  },
  "language_info": {
   "codemirror_mode": {
    "name": "ipython",
    "version": 3
   },
   "file_extension": ".py",
   "mimetype": "text/x-python",
   "name": "python",
   "nbconvert_exporter": "python",
   "pygments_lexer": "ipython3",
   "version": "3.4.3"
  }
 },
 "nbformat": 4,
 "nbformat_minor": 0
}
