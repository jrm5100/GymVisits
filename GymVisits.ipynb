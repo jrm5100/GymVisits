{
 "cells": [
  {
   "cell_type": "code",
   "execution_count": 2,
   "metadata": {
    "collapsed": false
   },
   "outputs": [],
   "source": [
    "import json\n",
    "import requests\n",
    "from bs4 import BeautifulSoup"
   ]
  },
  {
   "cell_type": "markdown",
   "metadata": {},
   "source": [
    "# Load Login Credentials"
   ]
  },
  {
   "cell_type": "code",
   "execution_count": 11,
   "metadata": {
    "collapsed": false
   },
   "outputs": [],
   "source": [
    "with open('credentials.json', 'r') as f:\n",
    "    credentials = json.load(f)\n",
    "    username = credentials['USERNAME']\n",
    "    password = credentials['PASSWORD']\n",
    "    \n",
    "URL = 'https://www.mytwinoaks.com/MemberPortal/Login.aspx?clubid=1699'\n",
    "headers={\"User-Agent\":\"Mozilla/5.0 (X11; Linux x86_64) AppleWebKit/537.36 (KHTML, like Gecko) Chrome/43.0.2357.125 Safari/537.36\"}"
   ]
  },
  {
   "cell_type": "markdown",
   "metadata": {},
   "source": [
    "# Start Session and Login"
   ]
  },
  {
   "cell_type": "code",
   "execution_count": 13,
   "metadata": {
    "collapsed": false,
    "scrolled": true
   },
   "outputs": [
    {
     "name": "stdout",
     "output_type": "stream",
     "text": [
      "Getting: https://www.mytwinoaks.com/MemberPortal/Login.aspx?clubid=1699\n",
      "Returned: https://www.mytwinoaks.com/MemberPortal/ClubServices/memDashboard.aspx?clubid=1699\n"
     ]
    }
   ],
   "source": [
    "print(\"Getting:\", URL)\n",
    "s=requests.Session()\n",
    "s.headers.update(headers)\n",
    "\n",
    "r=s.get(URL)\n",
    "soup=BeautifulSoup(r.content)\n",
    "\n",
    "VIEWSTATE=soup.find(id=\"__VIEWSTATE\")['value']\n",
    "VIEWSTATEGENERATOR=soup.find(id=\"__VIEWSTATEGENERATOR\")['value']\n",
    "EVENTVALIDATION=soup.find(id=\"__EVENTVALIDATION\")['value']\n",
    "\n",
    "data={\"__VIEWSTATE\":VIEWSTATE,\n",
    "\"__VIEWSTATEGENERATOR\":VIEWSTATEGENERATOR,\n",
    "\"__EVENTVALIDATION\":EVENTVALIDATION,\n",
    "\"ctl00$PageContent$LoginName\":username,\n",
    "\"ctl00$PageContent$PassWord\":password,\n",
    "\"ctl00$PageContent$loginButton\":\"Log In\"}\n",
    "\n",
    "r = s.post(URL, data)\n",
    "URL = r.url\n",
    "soup = BeautifulSoup(r.content)\n",
    "print(\"Returned:\",URL)"
   ]
  },
  {
   "cell_type": "markdown",
   "metadata": {},
   "source": [
    "# Get a history of visits"
   ]
  },
  {
   "cell_type": "markdown",
   "metadata": {},
   "source": [
    "## Navigate to Usage Page"
   ]
  },
  {
   "cell_type": "code",
   "execution_count": 14,
   "metadata": {
    "collapsed": false
   },
   "outputs": [
    {
     "name": "stdout",
     "output_type": "stream",
     "text": [
      "Getting: https://www.mytwinoaks.com/MemberPortal/ClubServices/memDashboard.aspx?clubid=1699\n",
      "Returned: https://www.mytwinoaks.com/MemberPortal/ClubServices/memDashboard.aspx?clubid=1699\n"
     ]
    }
   ],
   "source": [
    "VIEWSTATE=soup.find(id=\"__VIEWSTATE\")['value']\n",
    "VIEWSTATEGENERATOR=soup.find(id=\"__VIEWSTATEGENERATOR\")['value']\n",
    "EVENTVALIDATION=soup.find(id=\"__EVENTVALIDATION\")['value']\n",
    "\n",
    "data = {\"__VIEWSTATE\":VIEWSTATE,\n",
    "        \"__VIEWSTATEGENERATOR\":VIEWSTATEGENERATOR,\n",
    "        \"__VIEWSTATEENCRYPTED\":\"\",\n",
    "        \"__EVENTVALIDATION\":EVENTVALIDATION,\n",
    "        \"ctl00$IsLoggedIn\":1,\n",
    "        \"ctl00$PageContent$amtToPayPopupBox\":0,\n",
    "        \"__EVENTTARGET\":\"ctl00$PageSubNavBar$UsageButton\",\n",
    "        \"__EVENTARGUMENT\":\"\"\n",
    "       }\n",
    "\n",
    "print(\"Getting:\", URL)\n",
    "r = s.post(URL, data)\n",
    "URL = r.url\n",
    "soup = BeautifulSoup(r.content)\n",
    "print(\"Returned:\",URL)"
   ]
  },
  {
   "cell_type": "markdown",
   "metadata": {},
   "source": [
    "## Open Printable View of Usage"
   ]
  },
  {
   "cell_type": "code",
   "execution_count": 15,
   "metadata": {
    "collapsed": false
   },
   "outputs": [
    {
     "name": "stdout",
     "output_type": "stream",
     "text": [
      "Getting: https://www.mytwinoaks.com/MemberPortal/ClubServices/memDashboard.aspx?clubid=1699\n",
      "Returned: https://www.mytwinoaks.com/MemberPortal/ClubServices/memDashboard.aspx?clubid=1699\n"
     ]
    }
   ],
   "source": [
    "#First, trigger the ability to GET\n",
    "\n",
    "VIEWSTATE=soup.find(id=\"__VIEWSTATE\")['value']\n",
    "VIEWSTATEGENERATOR=soup.find(id=\"__VIEWSTATEGENERATOR\")['value']\n",
    "EVENTVALIDATION=soup.find(id=\"__EVENTVALIDATION\")['value']\n",
    "\n",
    "data = {\"__VIEWSTATE\":VIEWSTATE,\n",
    "        \"__VIEWSTATEGENERATOR\":VIEWSTATEGENERATOR,\n",
    "        \"__VIEWSTATEENCRYPTED\":\"\",\n",
    "        \"__EVENTVALIDATION\":EVENTVALIDATION,\n",
    "        \"ctl00$IsLoggedIn\":1,\n",
    "        \"ctl00$PageContent$fromDateBox\":\"\",\n",
    "        \"ctl00$PageContent$toDateBox:\":\"\",\n",
    "        \"ctl00$PageContent$amtToPayPopupBox\":0,\n",
    "        \"__EVENTTARGET\":\"ctl00$PageContent$usePrintableLink\",\n",
    "        \"__EVENTARGUMENT\":\"\"\n",
    "       }\n",
    "\n",
    "print(\"Getting:\", URL)\n",
    "r = s.post(URL, data)\n",
    "URL = r.url\n",
    "soup = BeautifulSoup(r.content)\n",
    "print(\"Returned:\",URL)"
   ]
  },
  {
   "cell_type": "markdown",
   "metadata": {},
   "source": [
    "## Record Data"
   ]
  },
  {
   "cell_type": "code",
   "execution_count": 16,
   "metadata": {
    "collapsed": true
   },
   "outputs": [],
   "source": [
    "checkins = s.get(\"https://www.mytwinoaks.com/MemberPortal/ClubServices/MemberUsageReport.aspx\")\n",
    "\n",
    "with open('Checkins.html', 'w') as w:\n",
    "    w.write(checkins.text)"
   ]
  },
  {
   "cell_type": "markdown",
   "metadata": {},
   "source": [
    "# Get a history of payments"
   ]
  },
  {
   "cell_type": "markdown",
   "metadata": {},
   "source": [
    "## Naviate to the payment page"
   ]
  },
  {
   "cell_type": "code",
   "execution_count": 17,
   "metadata": {
    "collapsed": false
   },
   "outputs": [
    {
     "name": "stdout",
     "output_type": "stream",
     "text": [
      "Getting: https://www.mytwinoaks.com/MemberPortal/ClubServices/memDashboard.aspx?clubid=1699\n",
      "Returned: https://www.mytwinoaks.com/MemberPortal/ClubServices/memDashboard.aspx?clubid=1699\n"
     ]
    }
   ],
   "source": [
    "VIEWSTATE=soup.find(id=\"__VIEWSTATE\")['value']\n",
    "VIEWSTATEGENERATOR=soup.find(id=\"__VIEWSTATEGENERATOR\")['value']\n",
    "EVENTVALIDATION=soup.find(id=\"__EVENTVALIDATION\")['value']\n",
    "\n",
    "data = {\"__VIEWSTATE\":VIEWSTATE,\n",
    "        \"__VIEWSTATEGENERATOR\":VIEWSTATEGENERATOR,\n",
    "        \"__VIEWSTATEENCRYPTED\":\"\",\n",
    "        \"__EVENTVALIDATION\":EVENTVALIDATION,\n",
    "        \"ctl00$IsLoggedIn\":1,\n",
    "        \"ctl00$PageContent$amtToPayPopupBox\":0,\n",
    "        \"__EVENTTARGET\":\"ctl00$PageSubNavBar$ARHistoryButton\",\n",
    "        \"__EVENTARGUMENT\":\"\"\n",
    "       }\n",
    "\n",
    "print(\"Getting:\", URL)\n",
    "r = s.post(URL, data)\n",
    "URL = r.url\n",
    "soup = BeautifulSoup(r.content)\n",
    "print(\"Returned:\",URL)"
   ]
  },
  {
   "cell_type": "markdown",
   "metadata": {},
   "source": [
    "## Open printable view of Payments"
   ]
  },
  {
   "cell_type": "code",
   "execution_count": 18,
   "metadata": {
    "collapsed": false
   },
   "outputs": [
    {
     "name": "stdout",
     "output_type": "stream",
     "text": [
      "Getting: https://www.mytwinoaks.com/MemberPortal/ClubServices/memDashboard.aspx?clubid=1699\n",
      "Returned: https://www.mytwinoaks.com/MemberPortal/ClubServices/memDashboard.aspx?clubid=1699\n"
     ]
    }
   ],
   "source": [
    "VIEWSTATE=soup.find(id=\"__VIEWSTATE\")['value']\n",
    "VIEWSTATEGENERATOR=soup.find(id=\"__VIEWSTATEGENERATOR\")['value']\n",
    "EVENTVALIDATION=soup.find(id=\"__EVENTVALIDATION\")['value']\n",
    "\n",
    "data = {\"__VIEWSTATE\":VIEWSTATE,\n",
    "        \"__VIEWSTATEGENERATOR\":VIEWSTATEGENERATOR,\n",
    "        \"__VIEWSTATEENCRYPTED\":\"\",\n",
    "        \"__EVENTVALIDATION\":EVENTVALIDATION,\n",
    "        \"ctl00$IsLoggedIn\":1,\n",
    "        \"ctl00$PageContent$fromDateBoxAR\":\"\",\n",
    "        \"ctl00$PageContent$toDateBoxAR:\":\"\",\n",
    "        \"ctl00$PageContent$amtToPayPopupBox\":0,\n",
    "        \"__EVENTTARGET\":\"ctl00$PageContent$ARPrintableLink\",\n",
    "        \"__EVENTARGUMENT\":\"\"\n",
    "       }\n",
    "\n",
    "print(\"Getting:\", URL)\n",
    "r = s.post(URL, data)\n",
    "URL = r.url\n",
    "soup = BeautifulSoup(r.content)\n",
    "print(\"Returned:\",URL)"
   ]
  },
  {
   "cell_type": "markdown",
   "metadata": {},
   "source": [
    "## Record Data"
   ]
  },
  {
   "cell_type": "code",
   "execution_count": 19,
   "metadata": {
    "collapsed": true
   },
   "outputs": [],
   "source": [
    "payments = s.get(\"https://www.mytwinoaks.com/MemberPortal/ClubServices/ARHistoryReport.aspx\")\n",
    "\n",
    "with open('Payments.html', 'w') as w:\n",
    "    w.write(payments.text)"
   ]
  },
  {
   "cell_type": "markdown",
   "metadata": {},
   "source": [
    "# Scrape Downloaded Data"
   ]
  },
  {
   "cell_type": "code",
   "execution_count": 3,
   "metadata": {
    "collapsed": true
   },
   "outputs": [],
   "source": [
    "import datetime\n",
    "import pandas as pd\n",
    "import numpy as np\n",
    "import calendar"
   ]
  },
  {
   "cell_type": "markdown",
   "metadata": {},
   "source": [
    "#### *Visits* is a series of datetime objects in sorted order (early to late) that corresponds to check-ins."
   ]
  },
  {
   "cell_type": "code",
   "execution_count": 22,
   "metadata": {
    "collapsed": false
   },
   "outputs": [
    {
     "data": {
      "text/plain": [
       "0   2009-10-10 14:30:45\n",
       "1   2009-10-12 18:07:58\n",
       "2   2009-10-13 18:26:28\n",
       "3   2009-10-17 11:35:13\n",
       "4   2009-10-21 17:59:35\n",
       "dtype: datetime64[ns]"
      ]
     },
     "execution_count": 22,
     "metadata": {},
     "output_type": "execute_result"
    }
   ],
   "source": [
    "#Checkins\n",
    "with open('Checkins.html', 'r') as f:\n",
    "    soup = BeautifulSoup(f)\n",
    "\n",
    "visits = []\n",
    "for record in [rec for rec in soup.find_all('tr') if len(rec.find_all('span'))==5]:\n",
    "    club, _, time, _, alerts = [rec.text for rec in record.find_all('span')]\n",
    "    visits.append(datetime.datetime.strptime(time, '%m/%d/%Y %I:%M:%S %p'))\n",
    "        \n",
    "visits = pd.Series(visits)\n",
    "visits.sort()\n",
    "visits = visits.reset_index(drop=True)\n",
    "\n",
    "visits.head()"
   ]
  },
  {
   "cell_type": "markdown",
   "metadata": {},
   "source": [
    "#### *Payments* is a dataframe of payment records"
   ]
  },
  {
   "cell_type": "code",
   "execution_count": 31,
   "metadata": {
    "collapsed": false
   },
   "outputs": [
    {
     "name": "stdout",
     "output_type": "stream",
     "text": [
      "        date  debit\n",
      "0 2009-10-10     25\n",
      "1 2009-10-10     21\n",
      "2 2009-11-01     29\n",
      "3 2009-12-01     29\n",
      "4 2010-01-01     29\n",
      "date     datetime64[ns]\n",
      "debit           float64\n",
      "dtype: object\n"
     ]
    }
   ],
   "source": [
    "#Payments\n",
    "with open('Payments.html', 'r') as f:\n",
    "    soup = BeautifulSoup(f)\n",
    "\n",
    "payments = {'date':[],'debit':[]}\n",
    "for record in [rec for rec in soup.find_all('tr') if len(rec.find_all('span'))==11]:\n",
    "    info = [rec.text for rec in record.find_all('span')]\n",
    "    date = info[0]\n",
    "    debit = info[6]\n",
    "    payments['date'].append(datetime.datetime.strptime(date, '%m/%d/%Y'))\n",
    "    payments['debit'].append(float(debit))\n",
    "    \n",
    "payments = pd.DataFrame(payments)\n",
    "payments = payments.sort('date').reset_index(drop=True) #Sort from earliest and re-index\n",
    "\n",
    "print(payments.head())\n",
    "print(payments.dtypes)"
   ]
  },
  {
   "cell_type": "markdown",
   "metadata": {},
   "source": [
    "# Fun with data!"
   ]
  },
  {
   "cell_type": "code",
   "execution_count": 32,
   "metadata": {
    "collapsed": false
   },
   "outputs": [
    {
     "name": "stdout",
     "output_type": "stream",
     "text": [
      "Total Payments: $1,960.00\n",
      "Total Visits: 961\n",
      "Average cost per visit: $2.04\n"
     ]
    }
   ],
   "source": [
    "total_payments = payments['debit'].sum()\n",
    "total_visits = len(visits)\n",
    "print('Total Payments:', '${0:,.2f}'.format(total_payments))\n",
    "print('Total Visits:', '{0:,}'.format(total_visits))\n",
    "print('Average cost per visit:', \"${0:,.2f}\".format(total_payments/total_visits))"
   ]
  },
  {
   "cell_type": "code",
   "execution_count": 36,
   "metadata": {
    "collapsed": false
   },
   "outputs": [],
   "source": [
    "#Most Visits per Year, Month-Year, Weekday"
   ]
  },
  {
   "cell_type": "code",
   "execution_count": 37,
   "metadata": {
    "collapsed": false
   },
   "outputs": [
    {
     "name": "stdout",
     "output_type": "stream",
     "text": [
      "Longest break was from August 29, 2012 @ 06:57 PM to September 16, 2012 @ 10:58 AM\n",
      "This was 17 Days, 16 Hours, 0 Min, and 54 Sec\n"
     ]
    }
   ],
   "source": [
    "#Longest Break\n",
    "timediff = visits.shift(-1)-visits #time until next visit\n",
    "maxbreak = timediff.max()\n",
    "start = visits.loc[timediff.idxmax()].strftime(\"%B %d, %Y @ %I:%M %p\")\n",
    "end = visits.loc[timediff.idxmax()+1].strftime(\"%B %d, %Y @ %I:%M %p\")\n",
    "print(\"Longest break was from {} to {}\".format(start, end))\n",
    "print(\"This was {} Days, {} Hours, {} Min, and {} Sec\".format(maxbreak.days, maxbreak.seconds//3600,\n",
    "                                                              maxbreak.seconds//60%60, maxbreak.seconds%60))"
   ]
  },
  {
   "cell_type": "code",
   "execution_count": 38,
   "metadata": {
    "collapsed": false
   },
   "outputs": [
    {
     "name": "stdout",
     "output_type": "stream",
     "text": [
      "0    False\n",
      "1     True\n",
      "2    False\n",
      "3    False\n",
      "4    False\n",
      "dtype: bool\n"
     ]
    }
   ],
   "source": [
    "#Longest Streak\n",
    "dates = visits.apply(lambda dt: dt.date())\n",
    "daydiff = dates.shift(-1)-dates #days until next visit\n",
    "\n",
    "#Select only rows with consecutive dates\n",
    "consecutive =daydiff==pd.Timedelta('1 days')\n",
    "print(consecutive.head())\n",
    "#Find longest stretch of consecutive index numbers"
   ]
  },
  {
   "cell_type": "markdown",
   "metadata": {},
   "source": [
    "# Fun with plots!"
   ]
  },
  {
   "cell_type": "code",
   "execution_count": null,
   "metadata": {
    "collapsed": false
   },
   "outputs": [],
   "source": [
    "import matplotlib.pyplot as plt\n",
    "import seaborn as sns\n",
    "sns.set_style(\"whitegrid\")\n",
    "sns.set_context(\"notebook\")\n",
    "%matplotlib inline"
   ]
  },
  {
   "cell_type": "markdown",
   "metadata": {},
   "source": [
    "## Overview"
   ]
  },
  {
   "cell_type": "markdown",
   "metadata": {},
   "source": [
    "## Interactions"
   ]
  },
  {
   "cell_type": "code",
   "execution_count": null,
   "metadata": {
    "collapsed": true
   },
   "outputs": [],
   "source": []
  }
 ],
 "metadata": {
  "kernelspec": {
   "display_name": "Python 3",
   "language": "python",
   "name": "python3"
  },
  "language_info": {
   "codemirror_mode": {
    "name": "ipython",
    "version": 3
   },
   "file_extension": ".py",
   "mimetype": "text/x-python",
   "name": "python",
   "nbconvert_exporter": "python",
   "pygments_lexer": "ipython3",
   "version": "3.4.1"
  }
 },
 "nbformat": 4,
 "nbformat_minor": 0
}
