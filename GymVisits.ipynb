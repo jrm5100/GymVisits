{
 "cells": [
  {
   "cell_type": "code",
   "execution_count": 1,
   "metadata": {
    "collapsed": false
   },
   "outputs": [],
   "source": [
    "import json\n",
    "import requests\n",
    "from bs4 import BeautifulSoup"
   ]
  },
  {
   "cell_type": "markdown",
   "metadata": {},
   "source": [
    "# Load Login Credentials"
   ]
  },
  {
   "cell_type": "code",
   "execution_count": 2,
   "metadata": {
    "collapsed": false
   },
   "outputs": [],
   "source": [
    "with open('credentials.json', 'r') as f:\n",
    "    credentials = json.load(f)\n",
    "    username = credentials['USERNAME']\n",
    "    password = credentials['PASSWORD']\n",
    "    \n",
    "URL = 'https://www.mytwinoaks.com/MemberPortal/Login.aspx?clubid=1699'\n",
    "headers={\"User-Agent\":\"Mozilla/5.0 (X11; Linux x86_64) AppleWebKit/537.36 (KHTML, like Gecko) Chrome/43.0.2357.125 Safari/537.36\"}"
   ]
  },
  {
   "cell_type": "markdown",
   "metadata": {},
   "source": [
    "# Start Session and Login"
   ]
  },
  {
   "cell_type": "code",
   "execution_count": 3,
   "metadata": {
    "collapsed": false,
    "scrolled": true
   },
   "outputs": [
    {
     "name": "stdout",
     "output_type": "stream",
     "text": [
      "Getting: https://www.mytwinoaks.com/MemberPortal/Login.aspx?clubid=1699\n",
      "Returned: https://www.mytwinoaks.com/MemberPortal/ClubServices/memDashboard.aspx?clubid=1699\n"
     ]
    }
   ],
   "source": [
    "print(\"Getting:\", URL)\n",
    "s=requests.Session()\n",
    "s.headers.update(headers)\n",
    "\n",
    "r=s.get(URL)\n",
    "soup=BeautifulSoup(r.content)\n",
    "\n",
    "VIEWSTATE=soup.find(id=\"__VIEWSTATE\")['value']\n",
    "VIEWSTATEGENERATOR=soup.find(id=\"__VIEWSTATEGENERATOR\")['value']\n",
    "EVENTVALIDATION=soup.find(id=\"__EVENTVALIDATION\")['value']\n",
    "\n",
    "data={\"__VIEWSTATE\":VIEWSTATE,\n",
    "\"__VIEWSTATEGENERATOR\":VIEWSTATEGENERATOR,\n",
    "\"__EVENTVALIDATION\":EVENTVALIDATION,\n",
    "\"ctl00$PageContent$LoginName\":username,\n",
    "\"ctl00$PageContent$PassWord\":password,\n",
    "\"ctl00$PageContent$loginButton\":\"Log In\"}\n",
    "\n",
    "r = s.post(URL, data)\n",
    "URL = r.url\n",
    "soup = BeautifulSoup(r.content)\n",
    "print(\"Returned:\",URL)"
   ]
  },
  {
   "cell_type": "markdown",
   "metadata": {},
   "source": [
    "# Get a history of visits"
   ]
  },
  {
   "cell_type": "markdown",
   "metadata": {},
   "source": [
    "## Navigate to Usage Page"
   ]
  },
  {
   "cell_type": "code",
   "execution_count": 4,
   "metadata": {
    "collapsed": false
   },
   "outputs": [
    {
     "name": "stdout",
     "output_type": "stream",
     "text": [
      "Getting: https://www.mytwinoaks.com/MemberPortal/ClubServices/memDashboard.aspx?clubid=1699\n",
      "Returned: https://www.mytwinoaks.com/MemberPortal/ClubServices/memDashboard.aspx?clubid=1699\n"
     ]
    }
   ],
   "source": [
    "VIEWSTATE=soup.find(id=\"__VIEWSTATE\")['value']\n",
    "VIEWSTATEGENERATOR=soup.find(id=\"__VIEWSTATEGENERATOR\")['value']\n",
    "EVENTVALIDATION=soup.find(id=\"__EVENTVALIDATION\")['value']\n",
    "\n",
    "data = {\"__VIEWSTATE\":VIEWSTATE,\n",
    "        \"__VIEWSTATEGENERATOR\":VIEWSTATEGENERATOR,\n",
    "        \"__VIEWSTATEENCRYPTED\":\"\",\n",
    "        \"__EVENTVALIDATION\":EVENTVALIDATION,\n",
    "        \"ctl00$IsLoggedIn\":1,\n",
    "        \"ctl00$PageContent$amtToPayPopupBox\":0,\n",
    "        \"__EVENTTARGET\":\"ctl00$PageSubNavBar$UsageButton\",\n",
    "        \"__EVENTARGUMENT\":\"\"\n",
    "       }\n",
    "\n",
    "print(\"Getting:\", URL)\n",
    "r = s.post(URL, data)\n",
    "URL = r.url\n",
    "soup = BeautifulSoup(r.content)\n",
    "print(\"Returned:\",URL)"
   ]
  },
  {
   "cell_type": "markdown",
   "metadata": {},
   "source": [
    "## Open Printable View of Usage"
   ]
  },
  {
   "cell_type": "code",
   "execution_count": 5,
   "metadata": {
    "collapsed": false
   },
   "outputs": [
    {
     "name": "stdout",
     "output_type": "stream",
     "text": [
      "Getting: https://www.mytwinoaks.com/MemberPortal/ClubServices/memDashboard.aspx?clubid=1699\n",
      "Returned: https://www.mytwinoaks.com/MemberPortal/ClubServices/memDashboard.aspx?clubid=1699\n"
     ]
    }
   ],
   "source": [
    "#First, trigger the ability to GET\n",
    "\n",
    "VIEWSTATE=soup.find(id=\"__VIEWSTATE\")['value']\n",
    "VIEWSTATEGENERATOR=soup.find(id=\"__VIEWSTATEGENERATOR\")['value']\n",
    "EVENTVALIDATION=soup.find(id=\"__EVENTVALIDATION\")['value']\n",
    "\n",
    "data = {\"__VIEWSTATE\":VIEWSTATE,\n",
    "        \"__VIEWSTATEGENERATOR\":VIEWSTATEGENERATOR,\n",
    "        \"__VIEWSTATEENCRYPTED\":\"\",\n",
    "        \"__EVENTVALIDATION\":EVENTVALIDATION,\n",
    "        \"ctl00$IsLoggedIn\":1,\n",
    "        \"ctl00$PageContent$fromDateBox\":\"\",\n",
    "        \"ctl00$PageContent$toDateBox:\":\"\",\n",
    "        \"ctl00$PageContent$amtToPayPopupBox\":0,\n",
    "        \"__EVENTTARGET\":\"ctl00$PageContent$usePrintableLink\",\n",
    "        \"__EVENTARGUMENT\":\"\"\n",
    "       }\n",
    "\n",
    "print(\"Getting:\", URL)\n",
    "r = s.post(URL, data)\n",
    "URL = r.url\n",
    "soup = BeautifulSoup(r.content)\n",
    "print(\"Returned:\",URL)"
   ]
  },
  {
   "cell_type": "markdown",
   "metadata": {},
   "source": [
    "## Record Data"
   ]
  },
  {
   "cell_type": "code",
   "execution_count": 6,
   "metadata": {
    "collapsed": true
   },
   "outputs": [],
   "source": [
    "checkins = s.get(\"https://www.mytwinoaks.com/MemberPortal/ClubServices/MemberUsageReport.aspx\")\n",
    "\n",
    "with open('Checkins.html', 'w') as w:\n",
    "    w.write(checkins.text)"
   ]
  },
  {
   "cell_type": "markdown",
   "metadata": {},
   "source": [
    "# Get a history of payments"
   ]
  },
  {
   "cell_type": "markdown",
   "metadata": {},
   "source": [
    "## Naviate to the payment page"
   ]
  },
  {
   "cell_type": "code",
   "execution_count": 7,
   "metadata": {
    "collapsed": false
   },
   "outputs": [
    {
     "name": "stdout",
     "output_type": "stream",
     "text": [
      "Getting: https://www.mytwinoaks.com/MemberPortal/ClubServices/memDashboard.aspx?clubid=1699\n",
      "Returned: https://www.mytwinoaks.com/MemberPortal/ClubServices/memDashboard.aspx?clubid=1699\n"
     ]
    }
   ],
   "source": [
    "VIEWSTATE=soup.find(id=\"__VIEWSTATE\")['value']\n",
    "VIEWSTATEGENERATOR=soup.find(id=\"__VIEWSTATEGENERATOR\")['value']\n",
    "EVENTVALIDATION=soup.find(id=\"__EVENTVALIDATION\")['value']\n",
    "\n",
    "data = {\"__VIEWSTATE\":VIEWSTATE,\n",
    "        \"__VIEWSTATEGENERATOR\":VIEWSTATEGENERATOR,\n",
    "        \"__VIEWSTATEENCRYPTED\":\"\",\n",
    "        \"__EVENTVALIDATION\":EVENTVALIDATION,\n",
    "        \"ctl00$IsLoggedIn\":1,\n",
    "        \"ctl00$PageContent$amtToPayPopupBox\":0,\n",
    "        \"__EVENTTARGET\":\"ctl00$PageSubNavBar$ARHistoryButton\",\n",
    "        \"__EVENTARGUMENT\":\"\"\n",
    "       }\n",
    "\n",
    "print(\"Getting:\", URL)\n",
    "r = s.post(URL, data)\n",
    "URL = r.url\n",
    "soup = BeautifulSoup(r.content)\n",
    "print(\"Returned:\",URL)"
   ]
  },
  {
   "cell_type": "markdown",
   "metadata": {},
   "source": [
    "## Open printable view of Payments"
   ]
  },
  {
   "cell_type": "code",
   "execution_count": 8,
   "metadata": {
    "collapsed": false
   },
   "outputs": [
    {
     "name": "stdout",
     "output_type": "stream",
     "text": [
      "Getting: https://www.mytwinoaks.com/MemberPortal/ClubServices/memDashboard.aspx?clubid=1699\n",
      "Returned: https://www.mytwinoaks.com/MemberPortal/ClubServices/memDashboard.aspx?clubid=1699\n"
     ]
    }
   ],
   "source": [
    "VIEWSTATE=soup.find(id=\"__VIEWSTATE\")['value']\n",
    "VIEWSTATEGENERATOR=soup.find(id=\"__VIEWSTATEGENERATOR\")['value']\n",
    "EVENTVALIDATION=soup.find(id=\"__EVENTVALIDATION\")['value']\n",
    "\n",
    "data = {\"__VIEWSTATE\":VIEWSTATE,\n",
    "        \"__VIEWSTATEGENERATOR\":VIEWSTATEGENERATOR,\n",
    "        \"__VIEWSTATEENCRYPTED\":\"\",\n",
    "        \"__EVENTVALIDATION\":EVENTVALIDATION,\n",
    "        \"ctl00$IsLoggedIn\":1,\n",
    "        \"ctl00$PageContent$fromDateBoxAR\":\"\",\n",
    "        \"ctl00$PageContent$toDateBoxAR:\":\"\",\n",
    "        \"ctl00$PageContent$amtToPayPopupBox\":0,\n",
    "        \"__EVENTTARGET\":\"ctl00$PageContent$ARPrintableLink\",\n",
    "        \"__EVENTARGUMENT\":\"\"\n",
    "       }\n",
    "\n",
    "print(\"Getting:\", URL)\n",
    "r = s.post(URL, data)\n",
    "URL = r.url\n",
    "soup = BeautifulSoup(r.content)\n",
    "print(\"Returned:\",URL)"
   ]
  },
  {
   "cell_type": "markdown",
   "metadata": {},
   "source": [
    "## Record Data"
   ]
  },
  {
   "cell_type": "code",
   "execution_count": 9,
   "metadata": {
    "collapsed": true
   },
   "outputs": [],
   "source": [
    "payments = s.get(\"https://www.mytwinoaks.com/MemberPortal/ClubServices/ARHistoryReport.aspx\")\n",
    "\n",
    "with open('Payments.html', 'w') as w:\n",
    "    w.write(payments.text)"
   ]
  },
  {
   "cell_type": "markdown",
   "metadata": {},
   "source": [
    "# Scrape Downloaded Data"
   ]
  },
  {
   "cell_type": "code",
   "execution_count": 10,
   "metadata": {
    "collapsed": true
   },
   "outputs": [],
   "source": [
    "from datetime import datetime\n",
    "import pandas as pd\n",
    "import numpy as np\n",
    "import calendar"
   ]
  },
  {
   "cell_type": "markdown",
   "metadata": {},
   "source": [
    "#### *visits* is a series of datetime objects in sorted order (early to late) that corresponds to check-ins."
   ]
  },
  {
   "cell_type": "code",
   "execution_count": 11,
   "metadata": {
    "collapsed": false
   },
   "outputs": [
    {
     "data": {
      "text/plain": [
       "0   2009-10-10 14:30:45\n",
       "1   2009-10-12 18:07:58\n",
       "2   2009-10-13 18:26:28\n",
       "3   2009-10-17 11:35:13\n",
       "4   2009-10-21 17:59:35\n",
       "dtype: datetime64[ns]"
      ]
     },
     "execution_count": 11,
     "metadata": {},
     "output_type": "execute_result"
    }
   ],
   "source": [
    "#Visits\n",
    "with open('Checkins.html', 'r') as f:\n",
    "    soup = BeautifulSoup(f)\n",
    "\n",
    "visits = []\n",
    "for record in [rec for rec in soup.find_all('tr') if len(rec.find_all('span'))==5]:\n",
    "    club, _, time, _, alerts = [rec.text for rec in record.find_all('span')]\n",
    "    visits.append(datetime.strptime(time, '%m/%d/%Y %I:%M:%S %p'))\n",
    "        \n",
    "visits = pd.Series(visits)\n",
    "visits.sort()\n",
    "visits = visits.reset_index(drop=True)\n",
    "\n",
    "visits.head()"
   ]
  },
  {
   "cell_type": "markdown",
   "metadata": {},
   "source": [
    "#### *visits_df* is a df representation for ease of grouping"
   ]
  },
  {
   "cell_type": "code",
   "execution_count": 12,
   "metadata": {
    "collapsed": false
   },
   "outputs": [
    {
     "name": "stdout",
     "output_type": "stream",
     "text": [
      "   year    month  day  hour  min    weekday\n",
      "0  2009  October   10    14   30   Saturday\n",
      "1  2009  October   12    18    7     Monday\n",
      "2  2009  October   13    18   26    Tuesday\n",
      "3  2009  October   17    11   35   Saturday\n",
      "4  2009  October   21    17   59  Wednesday\n",
      "---------------\n",
      "year          int64\n",
      "month      category\n",
      "day           int64\n",
      "hour          int64\n",
      "min           int64\n",
      "weekday    category\n",
      "dtype: object\n"
     ]
    }
   ],
   "source": [
    "visits_df = pd.DataFrame()\n",
    "visits_df['year'] = visits.apply(lambda dt: int(dt.strftime(\"%Y\")))\n",
    "visits_df['month'] = pd.Categorical(visits.apply(lambda dt: dt.strftime(\"%B\")), calendar.month_name[1:])\n",
    "visits_df['day'] = visits.apply(lambda dt: int(dt.strftime(\"%d\")))\n",
    "visits_df['hour'] = visits.apply(lambda dt: int(dt.strftime(\"%H\")))\n",
    "visits_df['min'] = visits.apply(lambda dt: int(dt.strftime(\"%M\")))\n",
    "visits_df['weekday'] = pd.Categorical(visits.apply(lambda dt: dt.strftime(\"%A\")),calendar.day_name)\n",
    "\n",
    "print(visits_df.head())\n",
    "print('-'*15)\n",
    "print(visits_df.dtypes)"
   ]
  },
  {
   "cell_type": "markdown",
   "metadata": {},
   "source": [
    "#### *Payments* is a dataframe of payment records"
   ]
  },
  {
   "cell_type": "code",
   "execution_count": 13,
   "metadata": {
    "collapsed": false
   },
   "outputs": [
    {
     "name": "stdout",
     "output_type": "stream",
     "text": [
      "        date  debit\n",
      "0 2009-10-10     25\n",
      "1 2009-10-10     21\n",
      "2 2009-11-01     29\n",
      "3 2009-12-01     29\n",
      "4 2010-01-01     29\n",
      "date     datetime64[ns]\n",
      "debit           float64\n",
      "dtype: object\n"
     ]
    }
   ],
   "source": [
    "#Payments\n",
    "with open('Payments.html', 'r') as f:\n",
    "    soup = BeautifulSoup(f)\n",
    "\n",
    "payments = {'date':[],'debit':[]}\n",
    "for record in [rec for rec in soup.find_all('tr') if len(rec.find_all('span'))==11]:\n",
    "    info = [rec.text for rec in record.find_all('span')]\n",
    "    date = info[0]\n",
    "    debit = info[6]\n",
    "    payments['date'].append(datetime.strptime(date, '%m/%d/%Y'))\n",
    "    payments['debit'].append(float(debit))\n",
    "    \n",
    "payments = pd.DataFrame(payments)\n",
    "payments = payments.sort('date').reset_index(drop=True) #Sort from earliest and re-index\n",
    "\n",
    "print(payments.head())\n",
    "print(payments.dtypes)"
   ]
  },
  {
   "cell_type": "markdown",
   "metadata": {},
   "source": [
    "# Fun with data!"
   ]
  },
  {
   "cell_type": "code",
   "execution_count": 14,
   "metadata": {
    "collapsed": false
   },
   "outputs": [
    {
     "name": "stdout",
     "output_type": "stream",
     "text": [
      "Total Payments: $1,960.00\n",
      "Total Visits: 961\n",
      "Average cost per visit: $2.04\n"
     ]
    }
   ],
   "source": [
    "total_payments = payments['debit'].sum()\n",
    "total_visits = len(visits)\n",
    "print('Total Payments:', '${0:,.2f}'.format(total_payments))\n",
    "print('Total Visits:', '{0:,}'.format(total_visits))\n",
    "print('Average cost per visit:', \"${0:,.2f}\".format(total_payments/total_visits))"
   ]
  },
  {
   "cell_type": "code",
   "execution_count": 15,
   "metadata": {
    "collapsed": false
   },
   "outputs": [
    {
     "name": "stdout",
     "output_type": "stream",
     "text": [
      "Most Visits:\n",
      "--------------------\n",
      "Per Year:\t228 Visits in 2011\n",
      "Per Month:\t31 Visits in February of 2011\n",
      "Per Weekday:\t167 Visits on Tuesday\n"
     ]
    }
   ],
   "source": [
    "#Most Visits per Year, Month-Year, Weekday\n",
    "print(\"Most Visits:\\n\"+\"-\"*20)\n",
    "years = visits_df.groupby('year').apply(lambda g: len(g))\n",
    "print(\"Per Year:\\t{} Visits in {}\".format(years.max(), years.idxmax()))\n",
    "months = visits_df.groupby(['month', 'year']).apply(lambda g: len(g))\n",
    "print(\"Per Month:\\t{} Visits in {} of {}\".format(months.max(), months.idxmax()[0], months.idxmax()[1]))\n",
    "weekdays = visits_df.groupby('weekday').apply(lambda g: len(g))\n",
    "print(\"Per Weekday:\\t{} Visits on {}\".format(weekdays.max(), weekdays.idxmax()))"
   ]
  },
  {
   "cell_type": "code",
   "execution_count": 16,
   "metadata": {
    "collapsed": false
   },
   "outputs": [
    {
     "name": "stdout",
     "output_type": "stream",
     "text": [
      "Longest break was from August 29, 2012 @ 06:57 PM to September 16, 2012 @ 10:58 AM\n",
      "This was 17 Days, 16 Hours, 0 Min, and 54 Sec\n"
     ]
    }
   ],
   "source": [
    "#Longest Break\n",
    "timediff = visits.shift(-1)-visits #time until next visit\n",
    "maxbreak = timediff.max()\n",
    "start = visits.loc[timediff.idxmax()].strftime(\"%B %d, %Y @ %I:%M %p\")\n",
    "end = visits.loc[timediff.idxmax()+1].strftime(\"%B %d, %Y @ %I:%M %p\")\n",
    "print(\"Longest break was from {} to {}\".format(start, end))\n",
    "print(\"This was {} Days, {} Hours, {} Min, and {} Sec\".format(maxbreak.days, maxbreak.seconds//3600,\n",
    "                                                              maxbreak.seconds//60%60, maxbreak.seconds%60))"
   ]
  },
  {
   "cell_type": "code",
   "execution_count": 17,
   "metadata": {
    "collapsed": false
   },
   "outputs": [
    {
     "name": "stdout",
     "output_type": "stream",
     "text": [
      "Longest Streak(s): 27 Days\n",
      "From March 14, 2011 through April 09, 2011\n"
     ]
    }
   ],
   "source": [
    "def find_longest_daily_streaks(date_array):\n",
    "    \"\"\"Return array of (start, end) dates which give longest daily streaks\"\"\"\n",
    "    #Remove duplicated, reset index\n",
    "    dates = date_array.apply(lambda dt: dt.date()).drop_duplicates().reset_index(drop=True)\n",
    "    \n",
    "    #Run first cycle (check for consecutive date)\n",
    "    delta = dates.shift(-1)-dates #days until next visit\n",
    "    consecutive = (delta == pd.Timedelta('1 days')).astype(int) #\"True\" or \"1\" if separated by maxtimedelta\n",
    "    cycles = 1\n",
    "    \n",
    "    #Run additional cycles until there are no more consecutive dates\n",
    "    while consecutive.sum() >= 1:\n",
    "        cycles += 1\n",
    "        positions = np.where(consecutive==1)\n",
    "        consecutive *= consecutive.shift(-1)\n",
    "    \n",
    "    #Return (start,end) date tuples with inclusive dates\n",
    "    starts = [dates[p[0]] for p in positions]\n",
    "    ends = [dates[p[0]+cycles-1] for p in positions] #-1 because we want inclusive range\n",
    "    return [tup for tup in zip(starts, ends)]\n",
    "\n",
    "streaks = find_longest_daily_streaks(visits)\n",
    "\n",
    "print(\"Longest Streak(s): {} Days\".format((streaks[0][1]-streaks[0][0]).days+1))#+1 b/c timedelta is not inclusive\n",
    "for streak in streaks:\n",
    "    print(\"From {} through {}\".format(streak[0].strftime(\"%B %d, %Y\"),\n",
    "                                      streak[1].strftime(\"%B %d, %Y\")))"
   ]
  },
  {
   "cell_type": "markdown",
   "metadata": {},
   "source": [
    "Above method took some work to figure out.\n",
    "\n",
    "1. Get a list of unique checkin dates.\n",
    "2. Get the time difference between date and next date using shift(-1)\n",
    "3. Convert this array to give \"1\" when the next day is consecutive.\n",
    "4. Repeat this process, but multiply current array by shifted array so non-consecutive zero-out\n",
    "5. Stop when the next step would result in a 0 array.\n",
    "6. Streaks start at remaining \"1\" positions and continue for the number of cycles that occurred.\n",
    "\n",
    "There may be some edge cases that are missed by this method, but I can't think of them without more testing."
   ]
  },
  {
   "cell_type": "markdown",
   "metadata": {},
   "source": [
    "# Fun with plots!"
   ]
  },
  {
   "cell_type": "code",
   "execution_count": 18,
   "metadata": {
    "collapsed": false
   },
   "outputs": [],
   "source": [
    "import matplotlib.pyplot as plt\n",
    "plt.style.use('ggplot')\n",
    "%matplotlib inline"
   ]
  },
  {
   "cell_type": "markdown",
   "metadata": {},
   "source": [
    "## Overview"
   ]
  },
  {
   "cell_type": "code",
   "execution_count": 19,
   "metadata": {
    "collapsed": false
   },
   "outputs": [
    {
     "data": {
      "text/plain": [
       "<matplotlib.text.Text at 0x7fa1e9285b00>"
      ]
     },
     "execution_count": 19,
     "metadata": {},
     "output_type": "execute_result"
    },
    {
     "data": {
      "image/png": "[encoded data removed]",
      "text/plain": [
       "<matplotlib.figure.Figure at 0x7fa1e9263c50>"
      ]
     },
     "metadata": {},
     "output_type": "display_data"
    }
   ],
   "source": [
    "fig,axes = plt.subplots(1,3, figsize=(14,4))\n",
    "visits_df.groupby('year').apply(lambda g: len(g)).plot(kind='bar', ax=axes[0], title='By Year')\n",
    "visits_df.groupby('month').apply(lambda g: len(g)).plot(kind='bar', ax=axes[1], title='By Month')\n",
    "visits_df.groupby('weekday').apply(lambda g: len(g)).plot(kind='bar', ax=axes[2], title='By Weekday')\n",
    "\n",
    "axes[0].set_ylabel('Visits')"
   ]
  },
  {
   "cell_type": "markdown",
   "metadata": {},
   "source": [
    "## Interactions"
   ]
  },
  {
   "cell_type": "code",
   "execution_count": 20,
   "metadata": {
    "collapsed": false
   },
   "outputs": [
    {
     "data": {
      "text/plain": [
       "<matplotlib.text.Text at 0x7fa1ef5d67b8>"
      ]
     },
     "execution_count": 20,
     "metadata": {},
     "output_type": "execute_result"
    },
    {
     "data": {
      "image/png": "[encoded data removed]",
      "text/plain": [
       "<matplotlib.figure.Figure at 0x7fa1ef3df048>"
      ]
     },
     "metadata": {},
     "output_type": "display_data"
    }
   ],
   "source": [
    "#Over the course of several years\n",
    "fig,ax = plt.subplots(1, figsize=(14,4))\n",
    "visits_df.pivot_table(index='year', columns='month', values='hour', aggfunc=len).plot(kind='bar', ax=ax)\n",
    "#fix legend\n",
    "box = ax.get_position()\n",
    "ax.set_position([box.x0, box.y0, box.width * 0.9, box.height])\n",
    "ax.legend(loc='center left', bbox_to_anchor=(1, 0.5), title=\"Month\")\n",
    "ax.set_title('Change Within Each Year', size=18)\n",
    "ax.set_ylabel('visits')"
   ]
  },
  {
   "cell_type": "code",
   "execution_count": 21,
   "metadata": {
    "collapsed": false
   },
   "outputs": [
    {
     "data": {
      "text/plain": [
       "<matplotlib.text.Text at 0x7fa1ef66fe80>"
      ]
     },
     "execution_count": 21,
     "metadata": {},
     "output_type": "execute_result"
    },
    {
     "data": {
      "image/png": "[encoded data removed]",
      "text/plain": [
       "<matplotlib.figure.Figure at 0x7fa1ef7be4e0>"
      ]
     },
     "metadata": {},
     "output_type": "display_data"
    }
   ],
   "source": [
    "#Time vs Weekday\n",
    "fig,ax = plt.subplots(1, figsize=(14,4))\n",
    "visits_df.pivot_table(index='weekday', columns='hour', values='min', aggfunc=len).plot(kind='bar', ax=ax)\n",
    "#fix legend\n",
    "box = ax.get_position()\n",
    "ax.set_position([box.x0, box.y0, box.width * 0.9, box.height])\n",
    "ax.legend(loc='center left', bbox_to_anchor=(1, 0.5), ncol=2, title=\"Hour\")\n",
    "ax.set_title('Time of Day vs Day of Week', size=18)\n",
    "ax.set_ylabel('visits')"
   ]
  },
  {
   "cell_type": "code",
   "execution_count": 22,
   "metadata": {
    "collapsed": false
   },
   "outputs": [
    {
     "name": "stdout",
     "output_type": "stream",
     "text": [
      "Strange 12:45 at night visit?  Must be testing related.\n",
      "----------------------------------------\n",
      "     year     month  day  hour  min weekday\n",
      "583  2012  December   31     0   45  Monday\n",
      "----------------------------------------\n",
      "2012-12-31 00:45:25\n"
     ]
    }
   ],
   "source": [
    "print(\"Strange 12:45 at night visit?  Must be testing related.\\n\"+\"-\"*40)\n",
    "print(visits_df[visits_df['hour']==0])\n",
    "print(\"-\"*40)\n",
    "print(visits.loc[583])"
   ]
  },
  {
   "cell_type": "code",
   "execution_count": 23,
   "metadata": {
    "collapsed": false
   },
   "outputs": [
    {
     "data": {
      "text/plain": [
       "<matplotlib.text.Text at 0x7fa1e9158d68>"
      ]
     },
     "execution_count": 23,
     "metadata": {},
     "output_type": "execute_result"
    },
    {
     "data": {
      "image/png": "[encoded data removed]",
      "text/plain": [
       "<matplotlib.figure.Figure at 0x7fa1ef5898d0>"
      ]
     },
     "metadata": {},
     "output_type": "display_data"
    }
   ],
   "source": [
    "#Time vs Month- Trying to Avoid January Rush\n",
    "fig,ax = plt.subplots(1, figsize=(14,4))\n",
    "visits_df.pivot_table(index='month', columns='hour', values='min', aggfunc=len).plot(kind='bar', ax=ax)\n",
    "#fix legend\n",
    "box = ax.get_position()\n",
    "ax.set_position([box.x0, box.y0, box.width * 0.9, box.height])\n",
    "ax.legend(loc='center left', bbox_to_anchor=(1, 0.5), ncol=2, title='Hour')\n",
    "ax.set_title('Time of Day vs Month', size=18)\n",
    "ax.set_ylabel('visits')"
   ]
  },
  {
   "cell_type": "code",
   "execution_count": null,
   "metadata": {
    "collapsed": true
   },
   "outputs": [],
   "source": []
  }
 ],
 "metadata": {
  "kernelspec": {
   "display_name": "Python 3",
   "language": "python",
   "name": "python3"
  },
  "language_info": {
   "codemirror_mode": {
    "name": "ipython",
    "version": 3
   },
   "file_extension": ".py",
   "mimetype": "text/x-python",
   "name": "python",
   "nbconvert_exporter": "python",
   "pygments_lexer": "ipython3",
   "version": "3.4.3"
  }
 },
 "nbformat": 4,
 "nbformat_minor": 0
}
